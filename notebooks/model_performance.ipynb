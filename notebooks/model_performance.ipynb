{
 "cells": [
  {
   "cell_type": "markdown",
   "metadata": {},
   "source": [
    "# Model Performance Transformations\n",
    "\n",
    "Lets practice some basic data transformation for ML performance enhancement"
   ]
  },
  {
   "cell_type": "code",
   "execution_count": null,
   "metadata": {},
   "outputs": [],
   "source": [
    "# Imports\n",
    "\n",
    "import numpy as np\n",
    "import pandas as pd\n",
    "from sklearn.preprocessing import RobustScaler, StandardScaler\n",
    "from sklearn.preprocessing import OneHotEncoder, OrdinalEncoder\n",
    "from sklearn.model_selection import train_test_split\n",
    "from sklearn.linear_model import LogisticRegression\n",
    "from sklearn.ensemble import RandomForestClassifier\n",
    "from sklearn.metrics import roc_auc_score"
   ]
  },
  {
   "cell_type": "code",
   "execution_count": null,
   "metadata": {},
   "outputs": [],
   "source": [
    "# Categorical data analyser\n",
    "\n",
    "def cat_var(df, cols):\n",
    "    '''\n",
    "    Return: a Pandas dataframe object with the following columns:\n",
    "        - \"categorical_variable\" => every categorical variable include as an input parameter (string).\n",
    "        - \"number_of_possible_values\" => the amount of unique values that can take a given categorical variable (integer).\n",
    "        - \"values\" => a list with the posible unique values for every categorical variable (list).\n",
    "\n",
    "    Input parameters:\n",
    "        - df -> Pandas dataframe object: a dataframe with categorical variables.\n",
    "        - cols -> list object: a list with the name (string) of every categorical variable to analyse.\n",
    "    '''\n",
    "    cat_list = []\n",
    "    for col in cols:\n",
    "        cat = df[col].unique()\n",
    "        cat_num = len(cat)\n",
    "        cat_dict = {\"categorical_variable\":col,\n",
    "                    \"number_of_possible_values\":cat_num,\n",
    "                    \"values\":cat}\n",
    "        cat_list.append(cat_dict)\n",
    "    df = pd.DataFrame(cat_list).sort_values(by=\"number_of_possible_values\", ascending=False)\n",
    "    return df.reset_index(drop=True)"
   ]
  },
  {
   "cell_type": "markdown",
   "metadata": {},
   "source": [
    "## Scaling\n",
    "\n",
    "Some ML algorithms have problems performing well whenever the data scale differ greatly between features. In those cases scaling the data is your best option.\n",
    "\n",
    "- [RobustScaler](https://scikit-learn.org/stable/modules/generated/sklearn.preprocessing.RobustScaler.html#sklearn.preprocessing.RobustScaler)\n",
    "\n",
    "- [StandardScaler](https://scikit-learn.org/stable/modules/generated/sklearn.preprocessing.StandardScaler.html#sklearn.preprocessing.StandardScaler)\n",
    "\n",
    "Try both options and see what happens with performance (i.e.: AUC).\n",
    "\n",
    "<img src=\"../images/scaling.png\" alt=\"Drawing\" style=\"width: 500px;\"/>"
   ]
  },
  {
   "cell_type": "code",
   "execution_count": null,
   "metadata": {},
   "outputs": [],
   "source": [
    "# Weather dataset (https://www.kaggle.com/jsphyg/weather-dataset-rattle-package)\n",
    "\n",
    "weather = pd.read_csv('../data/weatherAUS.csv')\n",
    "print(weather.shape)\n",
    "weather.head()"
   ]
  },
  {
   "cell_type": "code",
   "execution_count": null,
   "metadata": {},
   "outputs": [],
   "source": [
    "# Uluru weather (numerical features)\n",
    "\n",
    "weather = weather[weather['Location'].isin(['Uluru'])].reset_index(drop=True)\n",
    "weather = weather[weather['RainToday'].isin(['No','Yes'])].reset_index(drop=True)\n",
    "weather = weather[weather['RainTomorrow'].isin(['No','Yes'])]\n",
    "weather = weather[['MinTemp',\n",
    "                   'MaxTemp',\n",
    "                   'Rainfall',\n",
    "                   'WindSpeed9am',\n",
    "                   'WindSpeed3pm',\n",
    "                   'Humidity9am',\n",
    "                   'Humidity3pm',\n",
    "                   'Pressure9am',\n",
    "                   'Pressure3pm',\n",
    "                   'Temp9am',\n",
    "                   'Temp3pm',\n",
    "                   'RainTomorrow']]\n",
    "weather = weather.dropna().reset_index(drop=True)\n",
    "col_weather = list(weather.columns)\n",
    "print(col_weather)\n",
    "print(weather.shape)\n",
    "print(weather.describe())\n",
    "weather.head()"
   ]
  },
  {
   "cell_type": "code",
   "execution_count": null,
   "metadata": {},
   "outputs": [],
   "source": [
    "# Features + target\n",
    "\n",
    "X = weather[['MinTemp',\n",
    "          'MaxTemp',\n",
    "          'Rainfall',\n",
    "          'WindSpeed9am',\n",
    "          'WindSpeed3pm',\n",
    "          'Humidity9am',\n",
    "          'Humidity3pm',\n",
    "          'Pressure9am',\n",
    "          'Pressure3pm',\n",
    "          'Temp9am',\n",
    "          'Temp3pm']]\n",
    "y = pd.get_dummies(weather['RainTomorrow'], drop_first=True)['Yes']\n",
    "print(X.shape,y.shape)"
   ]
  },
  {
   "cell_type": "code",
   "execution_count": null,
   "metadata": {},
   "outputs": [],
   "source": [
    "# Train + test\n",
    "\n",
    "X_train, X_test, y_train, y_test = train_test_split(X, y, test_size=0.2, random_state=42)\n",
    "print(f\"X_train: {X_train.shape}, X_test: {X_test.shape}, y_train: {y_train.shape}, y_test: {y_test.shape}\")\n",
    "print(f\"X_train: {type(X_train)}, X_test: {type(X_test)}, y_train: {type(y_train)}, y_test: {type(y_test)}\")"
   ]
  },
  {
   "cell_type": "code",
   "execution_count": null,
   "metadata": {},
   "outputs": [],
   "source": [
    "# Scaling\n",
    "\n",
    "\n",
    "\n",
    "\n",
    "\n",
    "\n",
    "\n",
    "\n"
   ]
  },
  {
   "cell_type": "code",
   "execution_count": null,
   "metadata": {},
   "outputs": [],
   "source": [
    "# Linear model\n",
    "\n",
    "linear_model = LogisticRegression(max_iter=1000)\n",
    "linear_param = linear_model.fit(X_train, y_train)\n",
    "linear_pred = linear_model.predict(X_test)\n",
    "linear_auc = roc_auc_score(y_test, linear_pred)\n",
    "print(f\"Linear model AUC is: {linear_auc}\")"
   ]
  },
  {
   "cell_type": "code",
   "execution_count": null,
   "metadata": {},
   "outputs": [],
   "source": [
    "# Ensemble model\n",
    "\n",
    "ensemble_model = RandomForestClassifier()\n",
    "ensemble_param = ensemble_model.fit(X_train, y_train)\n",
    "ensemble_pred = ensemble_model.predict(X_test)\n",
    "ensemble_auc = roc_auc_score(y_test, ensemble_pred)\n",
    "print(f\"Linear model AUC is: {ensemble_auc}\")"
   ]
  },
  {
   "cell_type": "markdown",
   "metadata": {},
   "source": [
    "---"
   ]
  },
  {
   "cell_type": "markdown",
   "metadata": {},
   "source": [
    "## Enconding\n",
    "\n",
    "ML algorithms do not support categorical data. Therefore you need to find a way to transform categorical data into numerical. You must compare the results using both techniques: __One Hot Encoding__ or __Label Encoding__\n",
    "\n",
    "- [OneHotEncoder](https://scikit-learn.org/stable/modules/generated/sklearn.preprocessing.OneHotEncoder.html#sklearn.preprocessing.OneHotEncoder)\n",
    "\n",
    "- [LabelEncoder](https://scikit-learn.org/stable/modules/generated/sklearn.preprocessing.LabelEncoder.html#sklearn.preprocessing.LabelEncoder)\n",
    "\n",
    "<img src=\"../images/encoding.png\" alt=\"Drawing\" style=\"width: 500px;\"/>"
   ]
  },
  {
   "cell_type": "code",
   "execution_count": null,
   "metadata": {},
   "outputs": [],
   "source": [
    "# Mushrooms dataset (https://www.kaggle.com/uciml/mushroom-classification)\n",
    "\n",
    "mushrooms = pd.read_csv('../data/mushrooms.csv')\n",
    "col_mushrooms = list(mushrooms.columns)\n",
    "print(mushrooms.shape)\n",
    "mushrooms.head()"
   ]
  },
  {
   "cell_type": "code",
   "execution_count": null,
   "metadata": {
    "scrolled": false
   },
   "outputs": [],
   "source": [
    "# Features analysis\n",
    "\n",
    "cat_mushrooms = cat_var(mushrooms, col_mushrooms)\n",
    "cat_mushrooms"
   ]
  },
  {
   "cell_type": "code",
   "execution_count": null,
   "metadata": {},
   "outputs": [],
   "source": [
    "# Features + target (encoding). IMPORTANT: you may pick any of the 2-labeled features as you target (choose wisely!!!)\n",
    "\n",
    "\n",
    "\n",
    "\n",
    "\n",
    "\n",
    "\n",
    "\n"
   ]
  },
  {
   "cell_type": "code",
   "execution_count": null,
   "metadata": {},
   "outputs": [],
   "source": [
    "# Train + test\n",
    "\n",
    "\n",
    "\n",
    "\n",
    "\n",
    "\n",
    "\n",
    "\n"
   ]
  },
  {
   "cell_type": "code",
   "execution_count": null,
   "metadata": {},
   "outputs": [],
   "source": [
    "# Scaling\n",
    "\n",
    "\n",
    "\n",
    "\n",
    "\n",
    "\n",
    "\n",
    "\n"
   ]
  },
  {
   "cell_type": "code",
   "execution_count": null,
   "metadata": {},
   "outputs": [],
   "source": [
    "# Linear model\n",
    "\n",
    "linear_model = LogisticRegression(max_iter=1000)\n",
    "linear_param = linear_model.fit(X_train, y_train)\n",
    "linear_pred = linear_model.predict(X_test)\n",
    "linear_auc = roc_auc_score(y_test, linear_pred)\n",
    "print(f\"Linear model AUC is: {linear_auc}\")"
   ]
  },
  {
   "cell_type": "code",
   "execution_count": null,
   "metadata": {},
   "outputs": [],
   "source": [
    "# Ensemble model\n",
    "\n",
    "ensemble_model = RandomForestClassifier()\n",
    "ensemble_param = ensemble_model.fit(X_train, y_train)\n",
    "ensemble_pred = ensemble_model.predict(X_test)\n",
    "ensemble_auc = roc_auc_score(y_test, ensemble_pred)\n",
    "print(f\"Linear model AUC is: {ensemble_auc}\")"
   ]
  },
  {
   "cell_type": "markdown",
   "metadata": {},
   "source": [
    "---"
   ]
  },
  {
   "cell_type": "markdown",
   "metadata": {},
   "source": [
    "## Bonus\n",
    "\n",
    "Now that you can grasp the potential of pre-processing your data...what would you do about the following dataset?\n",
    "\n",
    "<img src=\"../images/bonus.jpg\" alt=\"Drawing\" style=\"width: 500px;\"/>"
   ]
  },
  {
   "cell_type": "code",
   "execution_count": null,
   "metadata": {},
   "outputs": [],
   "source": [
    "# Netflix dataset (https://www.kaggle.com/shivamb/netflix-shows)\n",
    "\n",
    "netflix = pd.read_csv('../data/netflix_titles.csv')\n",
    "col_netflix = list(netflix.columns)\n",
    "print(netflix.shape)\n",
    "netflix.head()"
   ]
  },
  {
   "cell_type": "code",
   "execution_count": null,
   "metadata": {},
   "outputs": [],
   "source": [
    "# ML workflow -> ¿what would you do?\n",
    "\n",
    "\n",
    "\n",
    "\n",
    "\n",
    "\n",
    "\n",
    "\n"
   ]
  },
  {
   "cell_type": "markdown",
   "metadata": {},
   "source": [
    "---"
   ]
  }
 ],
 "metadata": {
  "kernelspec": {
   "display_name": "Python 3",
   "language": "python",
   "name": "python3"
  },
  "language_info": {
   "codemirror_mode": {
    "name": "ipython",
    "version": 3
   },
   "file_extension": ".py",
   "mimetype": "text/x-python",
   "name": "python",
   "nbconvert_exporter": "python",
   "pygments_lexer": "ipython3",
   "version": "3.7.3"
  }
 },
 "nbformat": 4,
 "nbformat_minor": 2
}
